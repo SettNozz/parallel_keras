{
 "cells": [
  {
   "cell_type": "code",
   "execution_count": 1,
   "metadata": {},
   "outputs": [
    {
     "name": "stderr",
     "output_type": "stream",
     "text": [
      "/usr/local/lib/python3.5/dist-packages/h5py/__init__.py:36: FutureWarning: Conversion of the second argument of issubdtype from `float` to `np.floating` is deprecated. In future, it will be treated as `np.float64 == np.dtype(float).type`.\n",
      "  from ._conv import register_converters as _register_converters\n",
      "Using TensorFlow backend.\n"
     ]
    }
   ],
   "source": [
    "import keras"
   ]
  },
  {
   "cell_type": "code",
   "execution_count": 12,
   "metadata": {},
   "outputs": [
    {
     "name": "stdout",
     "output_type": "stream",
     "text": [
      "LOAD COMPLETE\n",
      "/home/settnozz/dataset/test/soup/4.jpeg [[1.]]\n",
      "/home/settnozz/dataset/test/soup/7.jpg [[1.]]\n",
      "/home/settnozz/dataset/test/soup/1.jpg [[1.]]\n",
      "/home/settnozz/dataset/test/soup/2.jpg [[1.]]\n",
      "/home/settnozz/dataset/test/soup/8.jpg [[1.]]\n",
      "/home/settnozz/dataset/test/soup/5.png [[1.]]\n",
      "/home/settnozz/dataset/test/soup/0.jpg [[1.]]\n",
      "/home/settnozz/dataset/test/soup/3.jpg [[1.]]\n",
      "/home/settnozz/dataset/test/soup/6.jpg [[1.]]\n",
      "/home/settnozz/dataset/test/soup/9.jpg [[1.]]\n"
     ]
    }
   ],
   "source": [
    "from keras.models import Model, load_model\n",
    "import numpy as np\n",
    "from os import listdir\n",
    "import preprocessors\n",
    "import sys\n",
    "import threading\n",
    "\n",
    "\n",
    "class CNN():\n",
    "    def __init__(self, model_path, preprocessor, imgpath):\n",
    "        self.cnn_model = loadmodel(model_path)\n",
    "        self.cnn_model.predictor(self.cnn_model, preprocessor, imgpath, num)\n",
    "        self.session = K.get_session()\n",
    "        self.graph = tf.get_default_graph()\n",
    "        self.graph.finalize() # finalize\n",
    "        \n",
    "\n",
    "    def predictor(model, preprocessor, imgpath, num):\n",
    "        x_test = preprocessor.transform_subset([imgpath])\n",
    "        y_pred = model.predict(x_test,batch_size=1)\n",
    "        print (imgpath,y_pred)\n",
    "\n",
    "\n",
    "if __name__ == '__main__':\n",
    "    img_width, img_height = 224, 224\n",
    "    model = load_model('food5k_adam_vgg16_gen.hdf5')\n",
    "    preprocessor = preprocessors.PreprocessorChain()\n",
    "    preprocessor.add_preprocessor(preprocessors.ImgPathToNpArray((img_width, img_height)))\n",
    "    preprocessor.add_preprocessor(preprocessors.ImageVGG16Preprocessor())\n",
    "    print ('LOAD COMPLETE')\n",
    "\n",
    "    path = '/home/settnozz/dataset/test/soup/'\n",
    "    imgpathlist = listdir(path)\n",
    "    for i in range(10):\n",
    "        t1 = threading.Thread(target=CNN.predictor(model,preprocessor,path+imgpathlist[i], i), args=(model, preprocessor, path+imgpathlist[i], i))\n",
    "        t1.start()\n",
    "        t1.join()"
   ]
  },
  {
   "cell_type": "code",
   "execution_count": null,
   "metadata": {},
   "outputs": [],
   "source": []
  }
 ],
 "metadata": {
  "kernelspec": {
   "display_name": "Python 3",
   "language": "python",
   "name": "python3"
  },
  "language_info": {
   "codemirror_mode": {
    "name": "ipython",
    "version": 3
   },
   "file_extension": ".py",
   "mimetype": "text/x-python",
   "name": "python",
   "nbconvert_exporter": "python",
   "pygments_lexer": "ipython3",
   "version": "3.5.2"
  }
 },
 "nbformat": 4,
 "nbformat_minor": 2
}
